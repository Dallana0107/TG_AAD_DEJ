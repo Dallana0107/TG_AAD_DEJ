{
 "cells": [
  {
   "cell_type": "markdown",
   "metadata": {},
   "source": [
    "# Código para visualizar la imagen en tiempo real"
   ]
  },
  {
   "cell_type": "code",
   "execution_count": null,
   "metadata": {},
   "outputs": [],
   "source": [
    "# Código para visualizar la imagen en tiempo real\n",
    "from maix import display, camera\n",
    "while True:\n",
    "    display.show(camera.capture())"
   ]
  },
  {
   "cell_type": "markdown",
   "metadata": {},
   "source": [
    "# Código para capturar y guardar una imagen"
   ]
  },
  {
   "cell_type": "code",
   "execution_count": null,
   "metadata": {},
   "outputs": [],
   "source": [
    "# Código para capturar y guardar una imagen\n",
    "#Formato JPG\n",
    "from maix import camera, display\n",
    "img = camera.capture()\n",
    "img.save('/root/tmp.jpg')\n",
    "display.show(img)"
   ]
  },
  {
   "cell_type": "code",
   "execution_count": null,
   "metadata": {},
   "outputs": [],
   "source": [
    "#Formato PNG\n",
    "from maix import camera, display\n",
    "img = camera.capture()\n",
    "img.save('/root/tmp.png')\n",
    "display.show(img)"
   ]
  },
  {
   "cell_type": "markdown",
   "metadata": {},
   "source": [
    "# Código para cambiar el tamaño de la imagen vista en tiempo real"
   ]
  },
  {
   "cell_type": "code",
   "execution_count": null,
   "metadata": {},
   "outputs": [],
   "source": [
    "# Código para cambiar el tamaño de la imagen vista en tiempo real\n",
    "from maix import camera, display, image\n",
    "camera.config(size=(640, 360))\n",
    "while True:\n",
    "    img = camera.capture()\n",
    "    display.show(img)"
   ]
  },
  {
   "cell_type": "markdown",
   "metadata": {},
   "source": [
    "# Código para cambiar de la cámara zoom"
   ]
  },
  {
   "cell_type": "code",
   "execution_count": null,
   "metadata": {},
   "outputs": [],
   "source": [
    "# Código para cambiar de la cámara zoom\n",
    "from maix import camera, display, image\n",
    "camera.config(size=(640, 360))\n",
    "while True:\n",
    "    img = camera.capture()\n",
    "    img = img.lens_corr(strength=1.8, zoom=1.0)\n",
    "    display.show(img)"
   ]
  },
  {
   "cell_type": "markdown",
   "metadata": {},
   "source": [
    "# Código para capturar y guardar imagenes de manera continua"
   ]
  },
  {
   "cell_type": "code",
   "execution_count": null,
   "metadata": {},
   "outputs": [],
   "source": [
    "# Código para capturar y guardar imagenes de manera continua\n",
    "from maix import camera, display\n",
    "import os\n",
    "import time\n",
    "\n",
    "camera.config(size=(1080, 1080))\n",
    "#carpeta donde se guardarán las imágenes\n",
    "ruta_carpeta = '/root/d'\n",
    "\n",
    "# Inicializar un contador para los nombres de archivo\n",
    "contador = 1\n",
    "\n",
    "#Esperar 3 segundos antes de comenzar a capturar imágenes\n",
    "time.sleep(3)\n",
    "\n",
    "while True:\n",
    "    # Capturar una imagen\n",
    "    img = camera.capture()\n",
    "    \n",
    "    # Generar un nombre de archivo único con el contador\n",
    "    nombre_archivo = f'imagen{contador}.jpg'\n",
    "    ruta_completa = os.path.join(ruta_carpeta, nombre_archivo)\n",
    "    \n",
    "    # Guardar la imagen en la carpeta con el nombre generado\n",
    "    img.save(ruta_completa)\n",
    "    \n",
    "    # Mostrar la imagen en la pantalla (opcional)\n",
    "    display.show(img)\n",
    "    \n",
    "    #Incrementar el contador \n",
    "    contador += 1\n",
    "    \n",
    "    # Esperar 3 segundos antes de capturar la siguiente imagen\n",
    "    time.sleep(3)"
   ]
  },
  {
   "cell_type": "markdown",
   "metadata": {},
   "source": [
    "# Código para visualización de colores"
   ]
  },
  {
   "cell_type": "code",
   "execution_count": null,
   "metadata": {},
   "outputs": [],
   "source": [
    "# Código para visualización de colores\n",
    "from maix import image, display, camera\n",
    "color = [\n",
    "        [(0, 100, -128, -23, -128, 127)], #绿色\n",
    "        [(10, 100, 30, 127, -37, 127)], #红色\n",
    "        [(40, 100, -25, 42, 7, 127)], #黄色\n",
    "        [(0, 100, -128, 127, -128, -46)], #蓝色\n",
    "        ]  # 0.5.0 以后蓝色的 lab 阈值，0.4.9 之前为 [(13, 11, -91, 54, 48, -28)]\n",
    "font_color = [ # 边框和文字颜色，暂时都用白色\n",
    "    (255,255,255), # 绿色\n",
    "    (255,255,255), # 红色\n",
    "    (255,255,255), # 黄色\n",
    "    (255,255,255)  # 白色\n",
    "]\n",
    "name_color = ('green', 'red', 'yellow', 'blue')\n",
    "while True:\n",
    "    img = camera.capture()\n",
    "    for n in range(0,4):\n",
    "        blobs = img.find_blobs(color[n])    #在图片中查找lab阈值内的颜色色块\n",
    "        if blobs:\n",
    "            for i in blobs:\n",
    "                if i[\"w\"]>15 and i[\"h\"]>15:\n",
    "                    img.draw_rectangle(i[\"x\"], i[\"y\"], i[\"x\"] + i[\"w\"], i[\"y\"] + i[\"h\"], \n",
    "                                       color=font_color[n], thickness=1) #将找到的颜色区域画出来\n",
    "                    img.draw_string(i[\"x\"], i[\"y\"], name_color[n], scale = 0.8, \n",
    "                              color = font_color[0], thickness = 1) #在红色背景图上写下hello worl\n",
    "    display.show(img)\n"
   ]
  },
  {
   "cell_type": "code",
   "execution_count": null,
   "metadata": {},
   "outputs": [],
   "source": []
  }
 ],
 "metadata": {
  "kernelspec": {
   "display_name": "RPyc-Python",
   "language": "Python",
   "name": "rpyc"
  },
  "language_info": {
   "codemirror_mode": "python",
   "file_extension": ".py",
   "mimetype": "text/python",
   "name": "Python"
  }
 },
 "nbformat": 4,
 "nbformat_minor": 4
}
